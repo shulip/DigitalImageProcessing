{
 "cells": [
  {
   "cell_type": "code",
   "execution_count": 1,
   "metadata": {
    "collapsed": true,
    "pycharm": {
     "is_executing": false
    }
   },
   "outputs": [],
   "source": [
    "import numpy as np\n",
    "from matplotlib import pyplot as plt"
   ]
  },
  {
   "cell_type": "code",
   "execution_count": 2,
   "outputs": [
    {
     "data": {
      "text/plain": "<Figure size 432x288 with 1 Axes>",
      "image/png": "[encoded data removed]"
     },
     "metadata": {
      "needs_background": "light"
     },
     "output_type": "display_data"
    }
   ],
   "source": [
    "x_ = np.array([1,15,34,57])\n",
    "y_ = np.array([12,42,12,157])\n",
    "plt.plot(x_,y_,\"ob\")\n",
    "plt.show()"
   ],
   "metadata": {
    "collapsed": false,
    "pycharm": {
     "name": "#%%\n",
     "is_executing": false
    }
   }
  },
  {
   "cell_type": "code",
   "execution_count": 3,
   "outputs": [],
   "source": [
    "def polynomial(X,x_,y_):\n",
    "    num = x_.shape[0]\n",
    "    Y = 0\n",
    "    for i in range(num):\n",
    "        temp = y_[i]\n",
    "        for j in range(num):\n",
    "            if i != j:\n",
    "                temp = temp * (X - x_[j]) / (x_[i] - x_[j])\n",
    "        Y += temp\n",
    "    return Y"
   ],
   "metadata": {
    "collapsed": false,
    "pycharm": {
     "name": "#%%\n",
     "is_executing": false
    }
   }
  },
  {
   "cell_type": "code",
   "execution_count": 5,
   "outputs": [
    {
     "data": {
      "text/plain": "<Figure size 432x288 with 1 Axes>",
      "image/png": "[encoded data removed]"
     },
     "metadata": {
      "needs_background": "light"
     },
     "output_type": "display_data"
    }
   ],
   "source": [
    "x_ = np.array([1,15,34,68,255,157])\n",
    "y_ = np.array([12,142,12,95,86,157])\n",
    "x = np.arange(0,  260, 1)\n",
    "y = polynomial(x,x_,y_)\n",
    "plt.plot(x_,y_,\"ob\")\n",
    "plt.plot(x, y) \n",
    "plt.show()"
   ],
   "metadata": {
    "collapsed": false,
    "pycharm": {
     "name": "#%%\n",
     "is_executing": false
    }
   }
  },
  {
   "cell_type": "code",
   "execution_count": 31,
   "outputs": [
    {
     "data": {
      "text/plain": "12.0"
     },
     "metadata": {},
     "output_type": "execute_result",
     "execution_count": 31
    }
   ],
   "source": [
    "polynomial(1,x_,y_)"
   ],
   "metadata": {
    "collapsed": false,
    "pycharm": {
     "name": "#%%\n",
     "is_executing": false
    }
   }
  },
  {
   "cell_type": "code",
   "execution_count": 10,
   "outputs": [],
   "source": [
    "X = np.array([6,7,8,9,10])\n",
    "Y = np.array([1,2,3,4,5])\n",
    "\n",
    "location = np.array([10,10])"
   ],
   "metadata": {
    "collapsed": false,
    "pycharm": {
     "name": "#%%\n",
     "is_executing": false
    }
   }
  },
  {
   "cell_type": "code",
   "execution_count": 16,
   "outputs": [
    {
     "name": "stdout",
     "text": [
      "[-4 -3 -2 -1  0]\n[16  9  4  1  0]\n[-9 -8 -7 -6 -5]\n[81 64 49 36 25]\n"
     ],
     "output_type": "stream"
    }
   ],
   "source": [
    "print(X - location[0])\n",
    "print(pow((X - location[0]),2))\n",
    "print(Y - location[1])\n",
    "print(pow((Y - location[1]),2))\n",
    "\n",
    "np.sqrt(pow((X - location[0]),2) + pow((Y - location[1]),2))"
   ],
   "metadata": {
    "collapsed": false,
    "pycharm": {
     "name": "#%%\n",
     "is_executing": false
    }
   }
  },
  {
   "cell_type": "code",
   "execution_count": 17,
   "outputs": [
    {
     "data": {
      "text/plain": "array([1.        , 1.73205081, 2.        , 3.        ])"
     },
     "metadata": {},
     "output_type": "execute_result",
     "execution_count": 17
    }
   ],
   "source": [
    "np.sqrt([1,3,4,9])\n",
    "\n"
   ],
   "metadata": {
    "collapsed": false,
    "pycharm": {
     "name": "#%%\n",
     "is_executing": false
    }
   }
  },
  {
   "cell_type": "code",
   "execution_count": 19,
   "outputs": [],
   "source": [
    "distances = np.sqrt(pow((X - location[0]),2) + pow((Y - location[1]),2))\n"
   ],
   "metadata": {
    "collapsed": false,
    "pycharm": {
     "name": "#%%\n",
     "is_executing": false
    }
   }
  },
  {
   "cell_type": "code",
   "execution_count": 30,
   "outputs": [
    {
     "name": "stdout",
     "text": [
      "[9.8488578  8.54400375 7.28010989 6.08276253 5.        ]\n5.0\n4\n"
     ],
     "output_type": "stream"
    }
   ],
   "source": [
    "print(distances)\n",
    "print(np.min(distances))\n",
    "print(np.where(distances==np.min(distances))[0][0])"
   ],
   "metadata": {
    "collapsed": false,
    "pycharm": {
     "name": "#%%\n",
     "is_executing": false
    }
   }
  },
  {
   "cell_type": "code",
   "execution_count": 22,
   "outputs": [
    {
     "name": "stdout",
     "text": [
      "(4,)\n"
     ],
     "output_type": "stream"
    }
   ],
   "source": [
    "a = np.array([123,32,12,42,1234])\n",
    "\n",
    "index = np.unravel_index(a.argmax(), a.shape)\n",
    "\n",
    "print(index)"
   ],
   "metadata": {
    "collapsed": false,
    "pycharm": {
     "name": "#%%\n",
     "is_executing": false
    }
   }
  },
  {
   "cell_type": "code",
   "execution_count": 35,
   "outputs": [
    {
     "data": {
      "text/plain": "array([1, 2, 3, 4])"
     },
     "metadata": {},
     "output_type": "execute_result",
     "execution_count": 35
    }
   ],
   "source": [
    "p_arr = np.array([1,2,3])\n",
    "p_ = 4\n",
    "np.append(p_arr,p_)"
   ],
   "metadata": {
    "collapsed": false,
    "pycharm": {
     "name": "#%%\n",
     "is_executing": false
    }
   }
  },
  {
   "cell_type": "code",
   "execution_count": null,
   "outputs": [],
   "source": [
    "\n"
   ],
   "metadata": {
    "collapsed": false,
    "pycharm": {
     "name": "#%%\n"
    }
   }
  }
 ],
 "metadata": {
  "kernelspec": {
   "display_name": "Python 3",
   "language": "python",
   "name": "python3"
  },
  "language_info": {
   "codemirror_mode": {
    "name": "ipython",
    "version": 2
   },
   "file_extension": ".py",
   "mimetype": "text/x-python",
   "name": "python",
   "nbconvert_exporter": "python",
   "pygments_lexer": "ipython2",
   "version": "2.7.6"
  },
  "pycharm": {
   "stem_cell": {
    "cell_type": "raw",
    "source": [],
    "metadata": {
     "collapsed": false
    }
   }
  }
 },
 "nbformat": 4,
 "nbformat_minor": 0
}